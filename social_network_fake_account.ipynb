{
 "cells": [
  {
   "cell_type": "markdown",
   "metadata": {},
   "source": [
    "## detect the fake profiles in online social networks using Neural Network"
   ]
  },
  {
   "cell_type": "code",
   "execution_count": 1,
   "metadata": {},
   "outputs": [],
   "source": [
    "import sys\n",
    "import csv\n",
    "import os\n",
    "import datetime\n",
    "import math\n",
    "import numpy as np\n",
    "import pandas as pd\n",
    "import matplotlib.pyplot as plt\n",
    "from datetime import datetime\n",
    "import sexmachine.detector as gender\n",
    "from sklearn.preprocessing import Imputer\n",
    "from sklearn.model_selection import cross_validate\n",
    "from sklearn import metrics\n",
    "from pybrain3.structure import SigmoidLayer\n",
    "from pybrain3.datasets import ClassificationDataSet\n",
    "from pybrain3.utilities import percentError\n",
    "from pybrain3.tools.shortcuts import buildNetwork\n",
    "from pybrain3.supervised.trainers import BackpropTrainer\n",
    "from pybrain3.structure.modules import SoftmaxLayer\n",
    "from pybrain3.tools.xml.networkwriter import NetworkWriter\n",
    "from pybrain3.tools.xml.networkreader import NetworkReader\n",
    "from sklearn import preprocessing\n",
    "from sklearn.linear_model import LinearRegression\n",
    "from sklearn.ensemble import RandomForestClassifier\n",
    "from sklearn.decomposition import PCA\n",
    "from sklearn.model_selection import train_test_split\n",
    "from sklearn.model_selection import GridSearchCV, learning_curve\n",
    "from sklearn.metrics import accuracy_score\n",
    "from sklearn.metrics import roc_curve, auc ,roc_auc_score\n",
    "from sklearn.metrics import confusion_matrix\n",
    "from sklearn.metrics import classification_report\n",
    "%matplotlib inline \n"
   ]
  },
  {
   "cell_type": "markdown",
   "metadata": {},
   "source": [
    "###### function for reading dataset from csv files"
   ]
  },
  {
   "cell_type": "code",
   "execution_count": 2,
   "metadata": {},
   "outputs": [],
   "source": [
    "def read_datasets():\n",
    "    \"\"\" Reads users profile from csv files \"\"\"\n",
    "    genuine_users = pd.read_csv(\"data/users.csv\")\n",
    "    fake_users = pd.read_csv(\"data/fusers.csv\")\n",
    "    x=pd.concat([genuine_users,fake_users])   \n",
    "    y=len(fake_users)*[0] + len(genuine_users)*[1]\n",
    "    return x,y\n",
    "    "
   ]
  },
  {
   "cell_type": "markdown",
   "metadata": {},
   "source": [
    "###### function for predicting sex using name of person"
   ]
  },
  {
   "cell_type": "code",
   "execution_count": 3,
   "metadata": {},
   "outputs": [],
   "source": [
    "def predict_sex(name):\n",
    "#     sex_predictor = gender.Detector(case_sensitive=False,unknown_value=u\"unknown\")\n",
    "    first_name= name.str.split(' ').str.get(0)\n",
    "#     sex_predictor = gender.Detector()\n",
    "#     sex = sex_predictor.get_gender(first_name)\n",
    "#     sex= first_name.apply(sex_predictor.get_gender)\n",
    "#     sex = 'unknown'\n",
    "#     sex_dict={'female': -2, 'mostly_female': -1,'unknown':0,'mostly_male':1, 'male': 2}\n",
    "    sex_code = 0 \n",
    "#     sex.map(sex_dict).astype(int)\n",
    "    return sex_code"
   ]
  },
  {
   "cell_type": "markdown",
   "metadata": {},
   "source": [
    "###### function for feature engineering"
   ]
  },
  {
   "cell_type": "code",
   "execution_count": 4,
   "metadata": {},
   "outputs": [],
   "source": [
    "def extract_features(x):\n",
    "    lang_list = list(enumerate(np.unique(x['lang'])))   \n",
    "    lang_dict = { name : i for i, name in lang_list }             \n",
    "    x.loc[:,'lang_code'] = x['lang'].map( lambda x: lang_dict[x]).astype(int)    \n",
    "    x.loc[:,'sex_code']=predict_sex(x['name'])\n",
    "    feature_columns_to_use = ['statuses_count','followers_count','friends_count','favourites_count','listed_count','sex_code','lang_code']\n",
    "    x=x.loc[:,feature_columns_to_use]\n",
    "    return x"
   ]
  },
  {
   "cell_type": "markdown",
   "metadata": {},
   "source": [
    "###### function for plotting confusion matrix"
   ]
  },
  {
   "cell_type": "code",
   "execution_count": 5,
   "metadata": {},
   "outputs": [],
   "source": [
    "def plot_confusion_matrix(cm, title='Confusion matrix', cmap=plt.cm.Blues):\n",
    "    target_names=['Fake','Genuine']\n",
    "    plt.imshow(cm, interpolation='nearest', cmap=cmap)\n",
    "    plt.title(title)\n",
    "    plt.colorbar()\n",
    "    tick_marks = np.arange(len(target_names))\n",
    "    plt.xticks(tick_marks, target_names, rotation=45)\n",
    "    plt.yticks(tick_marks, target_names)\n",
    "    plt.tight_layout()\n",
    "    plt.ylabel('True label')\n",
    "    plt.xlabel('Predicted label')"
   ]
  },
  {
   "cell_type": "markdown",
   "metadata": {},
   "source": [
    "###### function for plotting ROC curve"
   ]
  },
  {
   "cell_type": "code",
   "execution_count": 6,
   "metadata": {},
   "outputs": [],
   "source": [
    "def plot_roc_curve(y_test, y_pred):\n",
    "    false_positive_rate, true_positive_rate, thresholds = roc_curve(y_test, y_pred)\n",
    "\n",
    "    print(\"False Positive rate: \",false_positive_rate)\n",
    "    print(\"True Positive rate: \",true_positive_rate)\n",
    "\n",
    "\n",
    "    roc_auc = auc(false_positive_rate, true_positive_rate)\n",
    "\n",
    "    plt.title('Receiver Operating Characteristic')\n",
    "    plt.plot(false_positive_rate, true_positive_rate, 'b',label='AUC = %0.2f'% roc_auc)\n",
    "    plt.legend(loc='lower right')\n",
    "    plt.plot([0,1],[0,1],'r--')\n",
    "    plt.xlim([-0.1,1.2])\n",
    "    plt.ylim([-0.1,1.2])\n",
    "    plt.ylabel('True Positive Rate')\n",
    "    plt.xlabel('False Positive Rate')\n",
    "    plt.show()"
   ]
  },
  {
   "cell_type": "markdown",
   "metadata": {},
   "source": [
    "###### Function for training data using Neural Network"
   ]
  },
  {
   "cell_type": "code",
   "execution_count": 7,
   "metadata": {},
   "outputs": [],
   "source": [
    "def train(X,y):\n",
    "    \"\"\" Trains and predicts dataset with a Neural Network classifier \"\"\"\n",
    "\n",
    "    ds = ClassificationDataSet( len(X.columns), 1,nb_classes=2)\n",
    "    for k in range(len(X)): \n",
    "    \tds.addSample(X.iloc[k],np.array(y[k]))\n",
    "    tstdata, trndata = ds.splitWithProportion( 0.20 )\n",
    "    trndata._convertToOneOfMany( )\n",
    "    tstdata._convertToOneOfMany( ) \n",
    "    input_size=len(X.columns)\n",
    "    target_size=1\n",
    "    hidden_size = 5   \n",
    "    fnn=None\n",
    "    if  os.path.isfile('fnn.xml'): \n",
    "    \tfnn = NetworkReader.readFrom('fnn.xml') \n",
    "    else:\n",
    "    \tfnn = buildNetwork( trndata.indim, hidden_size , trndata.outdim, outclass=SoftmaxLayer )\t\n",
    "    trainer = BackpropTrainer( fnn, dataset=trndata,momentum=0.05, learningrate=0.1 , verbose=False, weightdecay=0.01)\n",
    "\n",
    "\n",
    "    trainer.trainUntilConvergence(verbose = False, validationProportion = 0.15, maxEpochs = 100, continueEpochs = 10 )\n",
    "    print(fnn)\n",
    "    NetworkWriter.writeToFile(fnn, 'oliv.xml')\n",
    "    predictions=trainer.testOnClassData (dataset=tstdata)\n",
    "    return tstdata['class'],predictions "
   ]
  },
  {
   "cell_type": "code",
   "execution_count": 8,
   "metadata": {},
   "outputs": [
    {
     "name": "stdout",
     "output_type": "stream",
     "text": [
      "reading datasets.....\n",
      "\n"
     ]
    },
    {
     "data": {
      "text/html": [
       "<div>\n",
       "<style scoped>\n",
       "    .dataframe tbody tr th:only-of-type {\n",
       "        vertical-align: middle;\n",
       "    }\n",
       "\n",
       "    .dataframe tbody tr th {\n",
       "        vertical-align: top;\n",
       "    }\n",
       "\n",
       "    .dataframe thead th {\n",
       "        text-align: right;\n",
       "    }\n",
       "</style>\n",
       "<table border=\"1\" class=\"dataframe\">\n",
       "  <thead>\n",
       "    <tr style=\"text-align: right;\">\n",
       "      <th></th>\n",
       "      <th>id</th>\n",
       "      <th>statuses_count</th>\n",
       "      <th>followers_count</th>\n",
       "      <th>friends_count</th>\n",
       "      <th>favourites_count</th>\n",
       "      <th>listed_count</th>\n",
       "      <th>default_profile</th>\n",
       "      <th>default_profile_image</th>\n",
       "      <th>geo_enabled</th>\n",
       "      <th>profile_use_background_image</th>\n",
       "      <th>profile_background_tile</th>\n",
       "      <th>utc_offset</th>\n",
       "      <th>protected</th>\n",
       "      <th>verified</th>\n",
       "    </tr>\n",
       "  </thead>\n",
       "  <tbody>\n",
       "    <tr>\n",
       "      <td>count</td>\n",
       "      <td>2.818000e+03</td>\n",
       "      <td>2818.000000</td>\n",
       "      <td>2818.000000</td>\n",
       "      <td>2818.000000</td>\n",
       "      <td>2818.000000</td>\n",
       "      <td>2818.000000</td>\n",
       "      <td>1728.0</td>\n",
       "      <td>8.0</td>\n",
       "      <td>721.0</td>\n",
       "      <td>2760.0</td>\n",
       "      <td>489.0</td>\n",
       "      <td>1069.000000</td>\n",
       "      <td>0.0</td>\n",
       "      <td>0.0</td>\n",
       "    </tr>\n",
       "    <tr>\n",
       "      <td>mean</td>\n",
       "      <td>5.374889e+08</td>\n",
       "      <td>1672.198368</td>\n",
       "      <td>371.105039</td>\n",
       "      <td>395.363023</td>\n",
       "      <td>234.541164</td>\n",
       "      <td>2.818666</td>\n",
       "      <td>1.0</td>\n",
       "      <td>1.0</td>\n",
       "      <td>1.0</td>\n",
       "      <td>1.0</td>\n",
       "      <td>1.0</td>\n",
       "      <td>1478.391020</td>\n",
       "      <td>NaN</td>\n",
       "      <td>NaN</td>\n",
       "    </tr>\n",
       "    <tr>\n",
       "      <td>std</td>\n",
       "      <td>2.977005e+08</td>\n",
       "      <td>4884.669157</td>\n",
       "      <td>8022.631339</td>\n",
       "      <td>465.694322</td>\n",
       "      <td>1445.847248</td>\n",
       "      <td>23.480430</td>\n",
       "      <td>0.0</td>\n",
       "      <td>0.0</td>\n",
       "      <td>0.0</td>\n",
       "      <td>0.0</td>\n",
       "      <td>0.0</td>\n",
       "      <td>8108.211889</td>\n",
       "      <td>NaN</td>\n",
       "      <td>NaN</td>\n",
       "    </tr>\n",
       "    <tr>\n",
       "      <td>min</td>\n",
       "      <td>3.610511e+06</td>\n",
       "      <td>0.000000</td>\n",
       "      <td>0.000000</td>\n",
       "      <td>0.000000</td>\n",
       "      <td>0.000000</td>\n",
       "      <td>0.000000</td>\n",
       "      <td>1.0</td>\n",
       "      <td>1.0</td>\n",
       "      <td>1.0</td>\n",
       "      <td>1.0</td>\n",
       "      <td>1.0</td>\n",
       "      <td>-39600.000000</td>\n",
       "      <td>NaN</td>\n",
       "      <td>NaN</td>\n",
       "    </tr>\n",
       "    <tr>\n",
       "      <td>25%</td>\n",
       "      <td>3.620867e+08</td>\n",
       "      <td>35.000000</td>\n",
       "      <td>17.000000</td>\n",
       "      <td>168.000000</td>\n",
       "      <td>0.000000</td>\n",
       "      <td>0.000000</td>\n",
       "      <td>1.0</td>\n",
       "      <td>1.0</td>\n",
       "      <td>1.0</td>\n",
       "      <td>1.0</td>\n",
       "      <td>1.0</td>\n",
       "      <td>3600.000000</td>\n",
       "      <td>NaN</td>\n",
       "      <td>NaN</td>\n",
       "    </tr>\n",
       "    <tr>\n",
       "      <td>50%</td>\n",
       "      <td>6.162253e+08</td>\n",
       "      <td>77.000000</td>\n",
       "      <td>26.000000</td>\n",
       "      <td>306.000000</td>\n",
       "      <td>0.000000</td>\n",
       "      <td>0.000000</td>\n",
       "      <td>1.0</td>\n",
       "      <td>1.0</td>\n",
       "      <td>1.0</td>\n",
       "      <td>1.0</td>\n",
       "      <td>1.0</td>\n",
       "      <td>3600.000000</td>\n",
       "      <td>NaN</td>\n",
       "      <td>NaN</td>\n",
       "    </tr>\n",
       "    <tr>\n",
       "      <td>75%</td>\n",
       "      <td>6.177673e+08</td>\n",
       "      <td>1087.750000</td>\n",
       "      <td>111.000000</td>\n",
       "      <td>519.000000</td>\n",
       "      <td>37.000000</td>\n",
       "      <td>1.000000</td>\n",
       "      <td>1.0</td>\n",
       "      <td>1.0</td>\n",
       "      <td>1.0</td>\n",
       "      <td>1.0</td>\n",
       "      <td>1.0</td>\n",
       "      <td>3600.000000</td>\n",
       "      <td>NaN</td>\n",
       "      <td>NaN</td>\n",
       "    </tr>\n",
       "    <tr>\n",
       "      <td>max</td>\n",
       "      <td>1.391998e+09</td>\n",
       "      <td>79876.000000</td>\n",
       "      <td>408372.000000</td>\n",
       "      <td>12773.000000</td>\n",
       "      <td>44349.000000</td>\n",
       "      <td>744.000000</td>\n",
       "      <td>1.0</td>\n",
       "      <td>1.0</td>\n",
       "      <td>1.0</td>\n",
       "      <td>1.0</td>\n",
       "      <td>1.0</td>\n",
       "      <td>36000.000000</td>\n",
       "      <td>NaN</td>\n",
       "      <td>NaN</td>\n",
       "    </tr>\n",
       "  </tbody>\n",
       "</table>\n",
       "</div>"
      ],
      "text/plain": [
       "                 id  statuses_count  followers_count  friends_count  \\\n",
       "count  2.818000e+03     2818.000000      2818.000000    2818.000000   \n",
       "mean   5.374889e+08     1672.198368       371.105039     395.363023   \n",
       "std    2.977005e+08     4884.669157      8022.631339     465.694322   \n",
       "min    3.610511e+06        0.000000         0.000000       0.000000   \n",
       "25%    3.620867e+08       35.000000        17.000000     168.000000   \n",
       "50%    6.162253e+08       77.000000        26.000000     306.000000   \n",
       "75%    6.177673e+08     1087.750000       111.000000     519.000000   \n",
       "max    1.391998e+09    79876.000000    408372.000000   12773.000000   \n",
       "\n",
       "       favourites_count  listed_count  default_profile  default_profile_image  \\\n",
       "count       2818.000000   2818.000000           1728.0                    8.0   \n",
       "mean         234.541164      2.818666              1.0                    1.0   \n",
       "std         1445.847248     23.480430              0.0                    0.0   \n",
       "min            0.000000      0.000000              1.0                    1.0   \n",
       "25%            0.000000      0.000000              1.0                    1.0   \n",
       "50%            0.000000      0.000000              1.0                    1.0   \n",
       "75%           37.000000      1.000000              1.0                    1.0   \n",
       "max        44349.000000    744.000000              1.0                    1.0   \n",
       "\n",
       "       geo_enabled  profile_use_background_image  profile_background_tile  \\\n",
       "count        721.0                        2760.0                    489.0   \n",
       "mean           1.0                           1.0                      1.0   \n",
       "std            0.0                           0.0                      0.0   \n",
       "min            1.0                           1.0                      1.0   \n",
       "25%            1.0                           1.0                      1.0   \n",
       "50%            1.0                           1.0                      1.0   \n",
       "75%            1.0                           1.0                      1.0   \n",
       "max            1.0                           1.0                      1.0   \n",
       "\n",
       "         utc_offset  protected  verified  \n",
       "count   1069.000000        0.0       0.0  \n",
       "mean    1478.391020        NaN       NaN  \n",
       "std     8108.211889        NaN       NaN  \n",
       "min   -39600.000000        NaN       NaN  \n",
       "25%     3600.000000        NaN       NaN  \n",
       "50%     3600.000000        NaN       NaN  \n",
       "75%     3600.000000        NaN       NaN  \n",
       "max    36000.000000        NaN       NaN  "
      ]
     },
     "execution_count": 8,
     "metadata": {},
     "output_type": "execute_result"
    }
   ],
   "source": [
    "print(\"reading datasets.....\\n\")\n",
    "x,y=read_datasets()\n",
    "x.describe()"
   ]
  },
  {
   "cell_type": "code",
   "execution_count": 9,
   "metadata": {},
   "outputs": [
    {
     "name": "stdout",
     "output_type": "stream",
     "text": [
      "extracting featues.....\n",
      "\n",
      "Index(['statuses_count', 'followers_count', 'friends_count',\n",
      "       'favourites_count', 'listed_count', 'sex_code', 'lang_code'],\n",
      "      dtype='object')\n",
      "       statuses_count  followers_count  friends_count  favourites_count  \\\n",
      "count     2818.000000      2818.000000    2818.000000       2818.000000   \n",
      "mean      1672.198368       371.105039     395.363023        234.541164   \n",
      "std       4884.669157      8022.631339     465.694322       1445.847248   \n",
      "min          0.000000         0.000000       0.000000          0.000000   \n",
      "25%         35.000000        17.000000     168.000000          0.000000   \n",
      "50%         77.000000        26.000000     306.000000          0.000000   \n",
      "75%       1087.750000       111.000000     519.000000         37.000000   \n",
      "max      79876.000000    408372.000000   12773.000000      44349.000000   \n",
      "\n",
      "       listed_count  sex_code    lang_code  \n",
      "count   2818.000000    2818.0  2818.000000  \n",
      "mean       2.818666       0.0     2.851313  \n",
      "std       23.480430       0.0     1.992950  \n",
      "min        0.000000       0.0     0.000000  \n",
      "25%        0.000000       0.0     1.000000  \n",
      "50%        0.000000       0.0     1.000000  \n",
      "75%        1.000000       0.0     5.000000  \n",
      "max      744.000000       0.0     7.000000  \n"
     ]
    }
   ],
   "source": [
    "print(\"extracting featues.....\\n\");\n",
    "x=extract_features(x);\n",
    "print(x.columns)\n",
    "print(x.describe())"
   ]
  },
  {
   "cell_type": "code",
   "execution_count": 10,
   "metadata": {},
   "outputs": [
    {
     "name": "stdout",
     "output_type": "stream",
     "text": [
      "training datasets.......\n",
      "\n",
      "FeedForwardNetwork-8\n",
      "   Modules:\n",
      "    [<BiasUnit 'bias'>, <LinearLayer 'in'>, <SigmoidLayer 'hidden0'>, <SoftmaxLayer 'out'>]\n",
      "   Connections:\n",
      "    [<FullConnection 'FullConnection-4': 'bias' -> 'out'>, <FullConnection 'FullConnection-5': 'bias' -> 'hidden0'>, <FullConnection 'FullConnection-6': 'hidden0' -> 'out'>, <FullConnection 'FullConnection-7': 'in' -> 'hidden0'>]\n",
      "\n"
     ]
    }
   ],
   "source": [
    "print(\"training datasets.......\\n\")\n",
    "y_test,y_pred =train(x,y)"
   ]
  },
  {
   "cell_type": "code",
   "execution_count": 11,
   "metadata": {},
   "outputs": [
    {
     "name": "stdout",
     "output_type": "stream",
     "text": [
      "Classification Accuracy on Test dataset:  0.9449378330373002\n"
     ]
    }
   ],
   "source": [
    "print('Classification Accuracy on Test dataset: ',accuracy_score(y_test, y_pred))"
   ]
  },
  {
   "cell_type": "code",
   "execution_count": 12,
   "metadata": {},
   "outputs": [
    {
     "name": "stdout",
     "output_type": "stream",
     "text": [
      "Percent Error on Test dataset:  5.506216696269982\n"
     ]
    }
   ],
   "source": [
    "print('Percent Error on Test dataset: ' ,percentError(y_pred,y_test))"
   ]
  },
  {
   "cell_type": "code",
   "execution_count": 13,
   "metadata": {},
   "outputs": [
    {
     "name": "stdout",
     "output_type": "stream",
     "text": [
      "Confusion matrix, without normalization\n",
      "[[249   4]\n",
      " [ 27 283]]\n"
     ]
    },
    {
     "data": {
      "image/png": "[encoded data removed]",
      "text/plain": [
       "<Figure size 432x288 with 2 Axes>"
      ]
     },
     "metadata": {
      "needs_background": "light"
     },
     "output_type": "display_data"
    }
   ],
   "source": [
    "cm=confusion_matrix(y_test, y_pred)\n",
    "print('Confusion matrix, without normalization')\n",
    "print(cm)\n",
    "plot_confusion_matrix(cm)"
   ]
  },
  {
   "cell_type": "code",
   "execution_count": 14,
   "metadata": {},
   "outputs": [
    {
     "name": "stdout",
     "output_type": "stream",
     "text": [
      "Normalized confusion matrix\n",
      "[[0.98418972 0.01581028]\n",
      " [0.08709677 0.91290323]]\n"
     ]
    },
    {
     "data": {
      "image/png": "[encoded data removed]",
      "text/plain": [
       "<Figure size 432x288 with 2 Axes>"
      ]
     },
     "metadata": {
      "needs_background": "light"
     },
     "output_type": "display_data"
    }
   ],
   "source": [
    "cm_normalized = cm.astype('float') / cm.sum(axis=1)[:, np.newaxis]\n",
    "print('Normalized confusion matrix')\n",
    "print(cm_normalized)\n",
    "plot_confusion_matrix(cm_normalized, title='Normalized confusion matrix')"
   ]
  },
  {
   "cell_type": "code",
   "execution_count": 15,
   "metadata": {},
   "outputs": [
    {
     "name": "stdout",
     "output_type": "stream",
     "text": [
      "              precision    recall  f1-score   support\n",
      "\n",
      "        Fake       0.90      0.98      0.94       253\n",
      "     Genuine       0.99      0.91      0.95       310\n",
      "\n",
      "    accuracy                           0.94       563\n",
      "   macro avg       0.94      0.95      0.94       563\n",
      "weighted avg       0.95      0.94      0.95       563\n",
      "\n"
     ]
    }
   ],
   "source": [
    "print(classification_report(y_test, y_pred, target_names=['Fake','Genuine']))"
   ]
  },
  {
   "cell_type": "code",
   "execution_count": 16,
   "metadata": {},
   "outputs": [
    {
     "name": "stdout",
     "output_type": "stream",
     "text": [
      "roc_auc_score :  0.9485464745633049\n"
     ]
    }
   ],
   "source": [
    "s=roc_auc_score(y_test, y_pred)\n",
    "print(\"roc_auc_score : \",s)"
   ]
  },
  {
   "cell_type": "code",
   "execution_count": 17,
   "metadata": {},
   "outputs": [
    {
     "name": "stdout",
     "output_type": "stream",
     "text": [
      "False Positive rate:  [0.         0.01581028 1.        ]\n",
      "True Positive rate:  [0.         0.91290323 1.        ]\n"
     ]
    },
    {
     "data": {
      "image/png": "[encoded data removed]",
      "text/plain": [
       "<Figure size 432x288 with 1 Axes>"
      ]
     },
     "metadata": {
      "needs_background": "light"
     },
     "output_type": "display_data"
    }
   ],
   "source": [
    " plot_roc_curve(y_test, y_pred)"
   ]
  }
 ],
 "metadata": {
  "kernelspec": {
   "display_name": "Python 3",
   "language": "python",
   "name": "python3"
  },
  "language_info": {
   "codemirror_mode": {
    "name": "ipython",
    "version": 3
   },
   "file_extension": ".py",
   "mimetype": "text/x-python",
   "name": "python",
   "nbconvert_exporter": "python",
   "pygments_lexer": "ipython3",
   "version": "3.7.4"
  }
 },
 "nbformat": 4,
 "nbformat_minor": 1
}
